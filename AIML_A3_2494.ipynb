{
  "nbformat": 4,
  "nbformat_minor": 0,
  "metadata": {
    "colab": {
      "provenance": [],
      "authorship_tag": "ABX9TyP9b/Y1FRxjK52r4ggX+TGJ",
      "include_colab_link": true
    },
    "kernelspec": {
      "name": "python3",
      "display_name": "Python 3"
    },
    "language_info": {
      "name": "python"
    }
  },
  "cells": [
    {
      "cell_type": "markdown",
      "metadata": {
        "id": "view-in-github",
        "colab_type": "text"
      },
      "source": [
        "<a href=\"https://colab.research.google.com/github/Varsha-Sri-Chukka/23CSBTB50/blob/main/AIML_A3_2494.ipynb\" target=\"_parent\"><img src=\"https://colab.research.google.com/assets/colab-badge.svg\" alt=\"Open In Colab\"/></a>"
      ]
    },
    {
      "cell_type": "markdown",
      "source": [
        "##1 Implement the AI Game Strategy\n",
        "##Part 1 –(a). Install the Python Libraries required for Game Strategy"
      ],
      "metadata": {
        "id": "xhpQ9LfTz3-r"
      }
    },
    {
      "cell_type": "code",
      "source": [
        "#1. Implement the MiniMax Search Algorithm\n",
        "from collections import namedtuple, Counter, defaultdict\n",
        "import random\n",
        "import math\n",
        "import functools\n",
        "cache=functools.lru_cache(10**6)"
      ],
      "metadata": {
        "id": "f5T7FbW90DNp"
      },
      "execution_count": 2,
      "outputs": []
    },
    {
      "cell_type": "code",
      "source": [
        "from functools import lru_cache\n",
        "\n",
        "class Game:\n",
        "\n",
        "    def actions(self, state):\n",
        "        \"\"\"Returns a list of actions available from the given state.\"\"\"\n",
        "        raise NotImplementedError\n",
        "\n",
        "    def result(self, state, action):\n",
        "        \"\"\"Returns the result of applying an action to the given state.\"\"\"\n",
        "        raise NotImplementedError\n",
        "\n",
        "    def is_terminal(self, state):\n",
        "        \"\"\"Returns True if the state is a terminal state, False otherwise.\"\"\"\n",
        "        raise NotImplementedError\n",
        "\n",
        "    def utility(self, state):\n",
        "        \"\"\"Returns the utility of the terminal state.\"\"\"\n",
        "        raise NotImplementedError"
      ],
      "metadata": {
        "id": "uGsLRTrz0Juy"
      },
      "execution_count": 3,
      "outputs": []
    },
    {
      "cell_type": "code",
      "source": [
        "def play_game(game, strategies: dict, verbose=False):\n",
        "    \"\"\"\n",
        "    Play a turn-taking game.\n",
        "    strategies is a {player name: function} dict, where function(state, game)\n",
        "    is used to get the player's move.\n",
        "    \"\"\"\n",
        "    state = game.initial_state()\n",
        "    while not game.is_terminal(state):\n",
        "        player = state.to_move\n",
        "        move = strategies[player](state, game)\n",
        "        state = game.result(state, move)\n",
        "        if verbose:\n",
        "            print('Player', player,  'move:' ,move)\n",
        "            print(state)\n",
        "    return state"
      ],
      "metadata": {
        "id": "lCrK_YHF0Tnc"
      },
      "execution_count": 4,
      "outputs": []
    },
    {
      "cell_type": "markdown",
      "source": [
        "##Part 2 – Implement the Game Strategy Algorithms.\n",
        "##Implement the MiniMax Search Algorithm\n"
      ],
      "metadata": {
        "id": "CQtE8-sb0oR8"
      }
    },
    {
      "cell_type": "code",
      "source": [
        "import math\n",
        "\n",
        "def minimax_search(game, state):\n",
        "    \"\"\"\n",
        "    Search game tree to determine best move; return (value, move) pair.\n",
        "    \"\"\"\n",
        "    player = state.to_move\n",
        "\n",
        "\n",
        "    def max_value(state):\n",
        "        if game.is_terminal(state):\n",
        "            return game.utility(state, player), None\n",
        "        v, move = -infinity, None\n",
        "\n",
        "        for a in game.actions(state):\n",
        "            v2, _ = min_value(game.result(state, a))\n",
        "            if v2 > v:\n",
        "                v, move = v2, a\n",
        "        return v, move\n",
        "\n",
        "    def min_value(state):\n",
        "        if game.is_terminal(state):\n",
        "            return game.utility(state), None\n",
        "        v , move = +infinity, None\n",
        "\n",
        "        for a in game.actions(state):\n",
        "            v2, _ = max_value(game.result(state, a))\n",
        "            if v2 < v:\n",
        "                v, move = v2, a\n",
        "        return v, move\n",
        "\n",
        "    return max_value(state)\n",
        "    infinity = math.inf"
      ],
      "metadata": {
        "id": "fBTN1P9L0eya"
      },
      "execution_count": 5,
      "outputs": []
    },
    {
      "cell_type": "markdown",
      "source": [
        "##2. Implement the Alpha-Beta Search Algorithm"
      ],
      "metadata": {
        "id": "fXjuzX8w1C8v"
      }
    },
    {
      "cell_type": "code",
      "source": [
        "import math\n",
        "\n",
        "def alphabeta_search(game, state):\n",
        "    \"\"\"\n",
        "    Search game to determine best action; use alpha-beta pruning.\n",
        "    \"\"Search all the way to leaves\"\"\"\n",
        "    player = state.to_move\n",
        "    def max_value(state, alpha, beta):\n",
        "        if game.is_terminal(state):\n",
        "            return game.utility(state, player), None\n",
        "        v, move = -infinity,None\n",
        "\n",
        "        for a in game.actions(state):\n",
        "            v2, _ = min_value(game.result(state, a), alpha, beta)\n",
        "            if v2 > v:\n",
        "                v, move = v2, a\n",
        "            alpha = max(alpha, v)\n",
        "            if v >= beta:\n",
        "                return v, move\n",
        "        return v, move\n",
        "\n",
        "    def min_value(state, alpha, beta):\n",
        "        if game.is_terminal(state):\n",
        "            return game.utility(state, player), None\n",
        "        v , move = +infinity, None\n",
        "\n",
        "        for a in game.actions(state):\n",
        "            v2, _ = max_value(game.result(state, a), alpha, beta)\n",
        "            if v2 < v:\n",
        "                v, move = v2, a\n",
        "            beta = min(beta, v)\n",
        "            if v <= alpha:\n",
        "                return v, move\n",
        "        return v, move\n",
        "\n",
        "\n",
        "\n",
        "    return max_value(state, -infinity, +infinity)"
      ],
      "metadata": {
        "id": "69hg6PKP1AEd"
      },
      "execution_count": 6,
      "outputs": []
    },
    {
      "cell_type": "markdown",
      "source": [
        "##Part 3 – Implement the Game Strategy using TicTocToe. [CO4]\n",
        "##Implement TicToCToe game using init , actions, result, is terminal, utility, display constructors"
      ],
      "metadata": {
        "id": "sjcBDdSG1Qq_"
      }
    },
    {
      "cell_type": "code",
      "source": [
        "class Game:\n",
        "    \"\"\"A base class for game-related methods and properties.\"\"\"\n",
        "    def actions(self, board):\n",
        "        \"\"\"Returns a set of legal actions for the given board.\"\"\"\n",
        "        raise NotImplementedError\n",
        "\n",
        "    def result(self, board, action):\n",
        "        \"\"\"Returns the resulting board after applying the action.\"\"\"\n",
        "        raise NotImplementedError\n",
        "\n",
        "    def utility(self, board, player):\n",
        "        \"\"\"Returns the utility value of the board for the given player.\"\"\"\n",
        "        raise NotImplementedError\n",
        "\n",
        "    def is_terminal(self, board):\n",
        "        \"\"\"Returns True if the board is in a terminal state, False otherwise.\"\"\"\n",
        "        raise NotImplementedError\n",
        "\n",
        "    def display(self, board):\n",
        "        \"\"\"Displays the board.\"\"\"\n",
        "        raise NotImplementedError\n",
        "\n",
        "class TicTacToe(Game):\n",
        "    \"\"\"Play TicTacToe on a 'height' by 'width' board, needing 'k' in a row to win.\n",
        "    'X' plays first against 'O'.\n",
        "    \"\"\"\n",
        "    def _init_(self, height=3, width=3, k=3):\n",
        "        self.k = k  # k in a row\n",
        "        self.squares = {(x, y) for x in range(width) for y in range(height)}\n",
        "        self.initial = Board(height=height, width=width, to_move='X', utility=0)\n",
        "\n",
        "    def actions(self, board):\n",
        "        \"\"\"Legal moves are any square not yet taken.\"\"\"\n",
        "        return self.squares - set(board)\n",
        "\n",
        "    def result(self, board, square):\n",
        "        \"\"\"Place a marker for current player on square.\"\"\"\n",
        "        player = board.to_move\n",
        "        new_board = board.new({square: player}, to_move=('O' if player == 'X' else 'X'))\n",
        "        win = self.k_in_row(new_board, player, square)\n",
        "        new_board.utility = (0 if not win else +1 if player == 'X' else -1)\n",
        "        return new_board\n",
        "\n",
        "    def utility(self, board, player):\n",
        "        \"\"\"Return the value to player; 1 for win, -1 for loss, 0 otherwise.\"\"\"\n",
        "        return board.utility if player == 'X' else -board.utility\n",
        "\n",
        "    def is_terminal(self, board):\n",
        "        \"\"\"A board is a terminal state if it is won or there are no empty squares.\"\"\"\n",
        "        return board.utility != 0 or len(self.squares - set(board)) == 0\n",
        "\n",
        "    def display(self, board):\n",
        "        print(board)\n",
        "\n",
        "    def k_in_row(self, board, player, square):\n",
        "        \"\"\"True if player has k pieces in a line through square.\"\"\"\n",
        "        def in_row(x, y, dx, dy):\n",
        "            count = 0\n",
        "            while 0 <= x < board.width and 0 <= y < board.height and board.board.get((x, y)) == player:\n",
        "                count += 1\n",
        "                x += dx\n",
        "                y += dy\n",
        "            return count\n",
        "\n",
        "        x, y = square\n",
        "        return any(\n",
        "            in_row(x, y, dx, dy) + in_row(x - dx, y - dy, -dx, -dy) - 1 >= self.k\n",
        "            for dx, dy in [(0, 1), (1, 0), (1, 1), (1, -1)]\n",
        "        )"
      ],
      "metadata": {
        "id": "nbbN_Urp1M0_"
      },
      "execution_count": 7,
      "outputs": []
    },
    {
      "cell_type": "code",
      "source": [
        "from collections import defaultdict\n",
        "\n",
        "class Board(defaultdict):\n",
        "    \"\"\"A board has the player to move, a cached utility value,\n",
        "    and a dict of {(x, y): player} entries, where player is 'X' or 'O'.\n",
        "    \"\"\"\n",
        "    empty = '.'\n",
        "    off = '#'\n",
        "\n",
        "    def _init_(self, width=8, height=8, to_move=None, **kwds):\n",
        "        super()._init_(self.empty)\n",
        "        self.width = width\n",
        "        self.height = height\n",
        "        self.to_move = to_move\n",
        "        self.utility = 0  # Initialize utility value\n",
        "        self.update(kwds)\n",
        "\n",
        "    def new(self, changes: dict, **kwds) -> 'Board':\n",
        "        \"\"\"Given a dict of {(x, y): contents} changes, return a new Board with the changes.\"\"\"\n",
        "        board = Board(width=self.width, height=self.height, **kwds)\n",
        "        board.update(self)\n",
        "        board.update(changes)\n",
        "        return board\n",
        "\n",
        "    def missing(self, loc):\n",
        "        \"\"\"Return the content at location or the off marker if out of bounds.\"\"\"\n",
        "        x, y = loc\n",
        "        if 0 <= x < self.width and 0 <= y < self.height:\n",
        "            return self[x, y]\n",
        "        else:\n",
        "            return self.off\n",
        "\n",
        "    def _hash_(self):\n",
        "        return hash(tuple(sorted(self.items()))) + hash(self.to_move)\n",
        "\n",
        "    def _repr_(self):\n",
        "       def row(y):\n",
        "            return ' '.join(self[x, y] for x in range(self.width))\n",
        "       return '\\n'.join(map(row, range(self.height))) + '\\n'"
      ],
      "metadata": {
        "id": "B5mMuoIB1eLz"
      },
      "execution_count": 8,
      "outputs": []
    }
  ]
}